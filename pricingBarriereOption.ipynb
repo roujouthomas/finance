{
  "nbformat": 4,
  "nbformat_minor": 0,
  "metadata": {
    "colab": {
      "provenance": []
    },
    "kernelspec": {
      "name": "python3",
      "display_name": "Python 3"
    },
    "language_info": {
      "name": "python"
    }
  },
  "cells": [
    {
      "cell_type": "code",
      "execution_count": null,
      "metadata": {
        "id": "igd8y6QljS6A"
      },
      "outputs": [],
      "source": []
    },
    {
      "cell_type": "markdown",
      "source": [
        "nous allons sur ce notebook pricer des options barrières, avec une formule fermée et une simulation de monte carlo on rappelle la relation d'arbitrage:\n",
        "$Knockin(K,T,H) + Knockout(K,T,H)= Vanilla(K,T)$"
      ],
      "metadata": {
        "id": "K3S1EHvajTpc"
      }
    },
    {
      "cell_type": "markdown",
      "source": [
        "$\n",
        "\\text{Payoff}_{UI, \\text{call}} = \\max(0, S(T) - K) \\cdot \\mathbb{1} \\left( \\max_{t \\in [0,T]} S(t) \\geq H \\right)\n",
        "$\n"
      ],
      "metadata": {
        "id": "Z9SSV4E3j7rb"
      }
    },
    {
      "cell_type": "code",
      "source": [
        "import numpy as np\n",
        "from scipy.stats import norm\n",
        "\n",
        "def UIcallPrice(K, T, H, sigma, r, q, S):\n",
        "  \"\"\"\n",
        "    Calcule le prix d'une option barrière up and in call selon la formule fermée.\n",
        "    Paramètres :\n",
        "    S : float spot\n",
        "    K : float strike\n",
        "    H: float barrière\n",
        "    T : float maturité\n",
        "    r : float Taux d'intérêt sans risque.\n",
        "    q: float taux dividendes\n",
        "    sigma : float Volatilité  sous-jacent.\n",
        "\n",
        "    Retourne :\n",
        "    float Prix de l'option.\n",
        "    \"\"\"\n",
        "  #calcul des paramètres pour la formule fermée\n",
        "\n",
        "  l=(r-q+(sigma**2)/2)/(sigma**2)\n",
        "\n",
        "  y= np.log((H**2)/(K*S))/(sigma*np.sqrt(T))  + l*sigma*np.sqrt(T)\n",
        "\n",
        "  x1= np.log(S/H)/(sigma*np.sqrt(T))    + l*sigma*np.sqrt(T)\n",
        "\n",
        "  y1= np.log(H/S)/(sigma*np.sqrt(T))   + l*sigma*np.sqrt(T)\n",
        "#calcul du prix\n",
        "\n",
        "  prix = S*norm.cdf(x1)*np.exp(-q*T) + K*np.exp(-r*T)*norm.cdf(x1-sigma*np.sqrt(T))\n",
        "  prix= prix - S*np.exp(-q*T)*(H/S)**(2*l)*(norm.cdf(-y1)-norm.cdf(-y))\n",
        "  prix= prix + K*np.exp(-r*T)*(H/S)**(2*l-2)*(norm.cdf(-y+sigma*np.sqrt(T))-norm.cdf(-y1+sigma*np.sqrt(T)))\n",
        "\n",
        "  return prix\n",
        "\n",
        "# Exemple\n",
        "S = 95  # spot\n",
        "K = 100   # strike\n",
        "H = 130 #barrière\n",
        "r = 0.05  # Taux d'intérêt sans risque\n",
        "q= 0.02 # taux de dividende\n",
        "T = 1.0   # maturité\n",
        "sigma = 0.2  # Volatilité\n",
        "\n",
        "\n",
        "prix_callUI = UIcallPrice( K, T, H, sigma, r, q, S)\n",
        "\n",
        "print(f\"Prix de l'option call up and in : {prix_callUI:.2f}\")\n",
        "\n",
        "\n",
        "\n"
      ],
      "metadata": {
        "colab": {
          "base_uri": "https://localhost:8080/"
        },
        "id": "Hc2tPEz2j68F",
        "outputId": "31d17dcc-fc67-4800-df2c-368ee6cba463"
      },
      "execution_count": 25,
      "outputs": [
        {
          "output_type": "stream",
          "name": "stdout",
          "text": [
            "Prix de l'option call up and in : 2.31\n"
          ]
        }
      ]
    },
    {
      "cell_type": "code",
      "source": [
        "def black_scholes(S, K, T, r, q, sigma, option_type=\"call\"):\n",
        "    \"\"\"\n",
        "    Calcule le prix d'une option européenne selon le modèle de Black-Scholes.\n",
        "    Paramètres :\n",
        "    S : float spot\n",
        "    K : float strike\n",
        "    T : float maturité\n",
        "    r : float Taux d'intérêt sans risque.\n",
        "    sigma : float Volatilité  sous-jacent.\n",
        "    option_type : str type d'option : \"call\" ou \"put\"\n",
        "\n",
        "    Retourne :\n",
        "    float Prix de l'option européenne.\n",
        "    \"\"\"\n",
        "    # Calcul des paramètres d1 et d2 pour black-scholes\n",
        "    d1 = (np.log(S / K) + (r - q + 0.5 * sigma ** 2) * T) / (sigma * np.sqrt(T))\n",
        "    d2 = d1 - sigma * np.sqrt(T)\n",
        "\n",
        "    if option_type == \"call\":\n",
        "\n",
        "        prix = S*np.exp(-q*T) * norm.cdf(d1) - K * np.exp(-r * T) * norm.cdf(d2)\n",
        "    elif option_type == \"put\":\n",
        "        # Prix de l'option de vente\n",
        "        prix = K * np.exp(-r * T) * norm.cdf(-d2) - S*np.exp(-q*T) * norm.cdf(-d1)\n",
        "\n",
        "    return prix"
      ],
      "metadata": {
        "id": "8sJEwmVhnxSY"
      },
      "execution_count": 26,
      "outputs": []
    },
    {
      "cell_type": "markdown",
      "source": [
        "passons maitenant au calcul de l'up and out call avec les mêmes paramètres en s'apuyant sur la formule fermée pour l'up and in call\n",
        "$\n",
        "\\text{Payoff}_{U0, \\text{call}} = \\max(0, S(T) - K) \\cdot \\mathbb{1} \\left( \\max_{t \\in [0,T]} S(t) < H \\right)\n",
        "$"
      ],
      "metadata": {
        "id": "v4JdE9ytprL5"
      }
    },
    {
      "cell_type": "code",
      "source": [
        "def UOcall(K,T,H,sigma,r,q,S):\n",
        "  prix = black_scholes(S,K,T,r,q,sigma,option_type=\"call\") - UIcallPrice(K, T, H, sigma, r, q, S)\n",
        "  return prix\n",
        "\n",
        "# Exemple\n",
        "S = 95  # spot\n",
        "K = 100   # strike\n",
        "H = 130 #barrière\n",
        "r = 0.05  # Taux d'intérêt sans risque\n",
        "q= 0.02 # taux de dividende\n",
        "T = 1.0   # maturité\n",
        "sigma = 0.2  # Volatilité\n",
        "\n",
        "\n",
        "prix_callUO = UOcall( K, T, H, sigma, r, q, S)\n",
        "\n",
        "\n",
        "print(f\"Prix de l'option call up and out : {prix_callUO:.2f}\")\n"
      ],
      "metadata": {
        "colab": {
          "base_uri": "https://localhost:8080/"
        },
        "id": "BInHjWj7oCO1",
        "outputId": "a29ac478-1189-4c0c-fbab-501fd0e6f52c"
      },
      "execution_count": 27,
      "outputs": [
        {
          "output_type": "stream",
          "name": "stdout",
          "text": [
            "Prix de l'option call up and out : 4.23\n"
          ]
        }
      ]
    },
    {
      "cell_type": "markdown",
      "source": [
        "La méthode de Monte Carlo repose sur la simulation d'un grand nombre de trajectoires du prix du sous-jacent afin d'estimer la valeur de l'option.\n",
        "\n",
        "On génère plusieurs chemins du prix du sous-jacent en utilisant un Mouvement Brownien Géométrique (GBM).\n",
        "Pour chaque trajectoire, on calcule la valeur finale de l'option en appliquant la formule de payoff.\n",
        "On fait la moyenne des payoffs obtenus sur toutes les simulations.\n",
        "On actualise cette moyenne au taux sans risque r\n",
        "pour obtenir la valeur présente de loption :\n",
        "$exp(-rt)* E[payoff]$\n",
        "elle peut être longue à converger et nécessite un grand nombre de simulations pour obtenir une bonne précision mais possède bien plus de souplesse dans la réalisation que la formule ferméee qui reste pour un cas précis"
      ],
      "metadata": {
        "id": "q3EqZIK00BaJ"
      }
    },
    {
      "cell_type": "code",
      "source": [
        "import numpy as np\n",
        "from scipy.stats import norm\n",
        "\n",
        "def simuler_chemins_GBM(S0, r, q, sigma, T, pas, n_sims, graine=None):\n",
        "    \"\"\"\n",
        "    Simule n_sims trajectoires du Mouvement Brownien Géométrique (GBM)\n",
        "    avec un nombre donné de points de discrétisation.\n",
        "\n",
        "    Paramètres :\n",
        "    S0 : float, prix initial du sous-jacent\n",
        "    r : float, taux d'intérêt sans risque\n",
        "    q : float, taux de dividende en continu\n",
        "    sigma : float, volatilité du sous-jacent\n",
        "    T : float, maturité en années\n",
        "    pas : int, nombre de sous-périodes de simulation\n",
        "    n_sims : int, nombre de simulations Monte Carlo\n",
        "    graine : int ou None, graine aléatoire pour reproductibilité\n",
        "\n",
        "    Retourne :\n",
        "    np.array de taille (n_sims, pas+1) contenant les chemins simulés.\n",
        "    \"\"\"\n",
        "    if graine is not None:\n",
        "        np.random.seed(graine)\n",
        "\n",
        "    dt = T / pas  # Taille d'un pas de temps\n",
        "    S = np.zeros((n_sims, pas + 1))  # Matrice des trajectoires\n",
        "    S[:, 0] = S0  # Initialisation avec le prix spot\n",
        "\n",
        "    for t in range(1, pas + 1):\n",
        "        Z = np.random.normal(0, 1, n_sims)  # Bruit gaussien standard\n",
        "        S[:, t] = S[:, t - 1] * np.exp((r - q - 0.5 * sigma**2) * dt\n",
        "                                       + sigma * np.sqrt(dt) * Z)\n",
        "    return S\n",
        "\n",
        "def call_up_and_in_mc(S0, K, H, r, q, sigma, T, pas, n_sims, graine=None):\n",
        "    \"\"\"\n",
        "    Calcule le prix d'une option call up-and-in par simulation Monte Carlo.\n",
        "\n",
        "    Paramètres :\n",
        "    S0 : float, prix initial du sous-jacent\n",
        "    K : float, prix d'exercice\n",
        "    H : float, barrière supérieure\n",
        "    r : float, taux d'intérêt sans risque\n",
        "    q : float, taux de dividende en continu\n",
        "    sigma : float, volatilité du sous-jacent\n",
        "    T : float, maturité en années\n",
        "    pas : int, nombre de sous-périodes pour la simulation\n",
        "    n_sims : int, nombre de simulations Monte Carlo\n",
        "    graine : int ou None, graine aléatoire pour reproductibilité\n",
        "\n",
        "    Retourne :\n",
        "    float, estimation du prix de l'option call up-and-in.\n",
        "    \"\"\"\n",
        "    # Simulation des trajectoires du sous-jacent\n",
        "    chemins_S = simuler_chemins_GBM(S0, r, q, sigma, T, pas, n_sims, graine)\n",
        "\n",
        "    # Valeur du sous-jacent à maturité (dernière colonne)\n",
        "    S_T = chemins_S[:, -1]\n",
        "\n",
        "    # Indicateur : la barrière a été atteinte (1 si max(S) >= H, 0 sinon)\n",
        "    barriere_atteinte = (np.max(chemins_S, axis=1) >= H)\n",
        "\n",
        "    # Payoff = max(S(T) - K, 0) si barrière atteinte, sinon 0\n",
        "    payoffs = np.where(barriere_atteinte, np.maximum(S_T - K, 0), 0)\n",
        "\n",
        "    # Actualisation au taux sans risque\n",
        "    return np.exp(-r * T) * np.mean(payoffs)\n",
        "\n",
        "def call_up_and_out_mc(S0, K, H, r, q, sigma, T, pas, n_sims, graine=None):\n",
        "    \"\"\"\n",
        "    Calcule le prix d'une option call up-and-out par simulation Monte Carlo.\n",
        "\n",
        "    Paramètres :\n",
        "    S0 : float, prix initial du sous-jacent\n",
        "    K : float, prix d'exercice\n",
        "    H : float, barrière supérieure\n",
        "    r : float, taux d'intérêt sans risque\n",
        "    q : float, taux de dividende en continu\n",
        "    sigma : float, volatilité du sous-jacent\n",
        "    T : float, maturité en années\n",
        "    pas : int, nombre de sous-périodes pour la simulation\n",
        "    n_sims : int, nombre de simulations Monte Carlo\n",
        "    graine : int ou None, graine aléatoire pour reproductibilité\n",
        "\n",
        "    Retourne :\n",
        "    float, estimation du prix de l'option call up-and-out.\n",
        "    \"\"\"\n",
        "    # Simulation des trajectoires du sous-jacent\n",
        "    chemins_S = simuler_chemins_GBM(S0, r, q, sigma, T, pas, n_sims, graine)\n",
        "\n",
        "    # Valeur du sous-jacent à maturité\n",
        "    S_T = chemins_S[:, -1]\n",
        "\n",
        "    # Indicateur : la barrière n'a pas été atteinte (1 si max(S) < H, 0 sinon)\n",
        "    barriere_non_atteinte = (np.max(chemins_S, axis=1) < H)\n",
        "\n",
        "    # Payoff = max(S(T) - K, 0) si barrière non atteinte, sinon 0\n",
        "    payoffs = np.where(barriere_non_atteinte, np.maximum(S_T - K, 0), 0)\n",
        "\n",
        "    # Actualisation\n",
        "    return np.exp(-r * T) * np.mean(payoffs)\n",
        "\n",
        "if __name__ == \"__main__\":\n",
        "    # Paramètres du modèle\n",
        "    S0 = 95      # Prix spot initial\n",
        "    K = 100      # Prix d'exercice\n",
        "    H = 130      # Barrière supérieure\n",
        "    r = 0.05     # Taux d'intérêt sans risque\n",
        "    q = 0.02     # Taux de dividende en continu\n",
        "    sigma = 0.2  # Volatilité\n",
        "    T = 1.0      # Maturité en années\n",
        "    pas = 252*24    # Nombre de pas (ex : 252 jours boursiers 24 h de fonctionnement)\n",
        "    n_sims = 100000  # Nombre de simulations Monte Carlo\n",
        "\n",
        "    prix_call_UI = call_up_and_in_mc(S0, K, H, r, q, sigma, T, pas, n_sims, graine=42)\n",
        "    prix_call_UO = call_up_and_out_mc(S0, K, H, r, q, sigma, T, pas, n_sims, graine=42)\n",
        "\n",
        "    print(f\"Prix Monte Carlo du call up-and-in  : {prix_call_UI:.4f}\")\n",
        "    print(f\"Prix Monte Carlo du call up-and-out : {prix_call_UO:.4f}\")\n"
      ],
      "metadata": {
        "colab": {
          "base_uri": "https://localhost:8080/"
        },
        "id": "jABXK-YQvhF9",
        "outputId": "a3fa576f-97e2-4e4f-f5f4-c7e46138c8f8"
      },
      "execution_count": 31,
      "outputs": [
        {
          "output_type": "stream",
          "name": "stdout",
          "text": [
            "Prix Monte Carlo du call up-and-in  : 3.7484\n",
            "Prix Monte Carlo du call up-and-out : 2.7815\n"
          ]
        }
      ]
    },
    {
      "cell_type": "markdown",
      "source": [
        "on observe de bien meilleur résultats avec la méthode de Monte-Carlo qu'avec la méthode en sollution fermée, cela peut dépendre de conditions non respecté pour la bonne utilisation de la solution fermé."
      ],
      "metadata": {
        "id": "w4dEPeIs3xb8"
      }
    }
  ]
}