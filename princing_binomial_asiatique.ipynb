{
  "nbformat": 4,
  "nbformat_minor": 0,
  "metadata": {
    "colab": {
      "provenance": []
    },
    "kernelspec": {
      "name": "python3",
      "display_name": "Python 3"
    },
    "language_info": {
      "name": "python"
    }
  },
  "cells": [
    {
      "cell_type": "code",
      "execution_count": 22,
      "metadata": {
        "id": "GDq88f2SEDa8"
      },
      "outputs": [],
      "source": []
    },
    {
      "cell_type": "markdown",
      "source": [
        "ce notebook présente différentes manières de pricer des call ou des put européens ou asiatique\n",
        "commencons par le plus basique,\n",
        "#les options européennes\n",
        "\n",
        "on peut utiliser la méthode de l'arbre binomiale ou bien le Modèle de Black-Scholes commencons par la méthode binomiale qui consiste à supposer qu'a chaque pas de temps notre arbre à une proba $p$ de monter et $1-p$ de descendre,  $p$ dépendant des facteurs de hausse $u$ et du facteur de baisse $d=1/u$"
      ],
      "metadata": {
        "id": "grvVUXIFOdIE"
      }
    },
    {
      "cell_type": "code",
      "source": [
        "import numpy as np\n",
        "\n",
        "def prix_option_europeenne_binomiale(S0, K, r, T, sigma, N, option_type=\"call\"):\n",
        "    \"\"\"\n",
        "    Calcule le prix d'une option européenne (call ou put) en utilisant un modèle d'arbre binomial.\n",
        "\n",
        "    Paramètres :\n",
        "    S0 : float spot\n",
        "    K : float strike\n",
        "    T : float maturité\n",
        "    r : float Taux d'intérêt sans risque.\n",
        "    sigma : float Volatilité  sous-jacent.\n",
        "    N : int nombre de pas modèle\n",
        "    option_type : str type d'option : \"call\" ou \"put\"\n",
        "\n",
        "    Retourne :\n",
        "    float Prix de l'option européenne.\n",
        "    \"\"\"\n",
        "    # Calcul des paramètres de l'arbre binomial\n",
        "    dt = T / N\n",
        "    u = np.exp(sigma * np.sqrt(dt))  # Facteur de hausse\n",
        "    d = 1 / u                        # Facteur de baisse\n",
        "    p = (np.exp(r * dt) - d) / (u - d)  # Probabilité neutre au risque\n",
        "\n",
        "    # Initialisation des matrices pour les prix de l'actif et les valeurs de l'option\n",
        "    prix = np.zeros((N + 1, N + 1))\n",
        "    valeur_option = np.zeros((N + 1, N + 1))\n",
        "\n",
        "    # Calcul des prix possibles de l'actif sous-jacent à l'échéance\n",
        "    for i in range(N + 1):\n",
        "        for j in range(i + 1):\n",
        "            prix[j, i] = S0 * (u ** (i - j)) * (d ** j)\n",
        "\n",
        "    # Calcul des valeurs de l'option à l'échéance\n",
        "    for j in range(N + 1):\n",
        "        if option_type == \"call\":\n",
        "            valeur_option[j, N] = max(0, prix[j, N] - K)\n",
        "        elif option_type == \"put\":\n",
        "            valeur_option[j, N] = max(0, K - prix[j, N])\n",
        "\n",
        "    # Rembobinage de l'arbre pour calculer la valeur de l'option au temps initial\n",
        "    for i in range(N - 1, -1, -1):\n",
        "        for j in range(i + 1):\n",
        "            valeur_option[j, i] = np.exp(-r * dt) * (p * valeur_option[j, i + 1] + (1 - p) * valeur_option[j + 1, i + 1])\n",
        "\n",
        "    return valeur_option[0, 0] #le prix de l'option est le noeud initiale\n",
        "\n",
        "# Exemple\n",
        "S0 = 105  # spot\n",
        "K = 100   # strike\n",
        "r = 0.05  # Taux d'intérêt sans risque\n",
        "T = 1.0   # maturité\n",
        "sigma = 0.2  # Volatilité\n",
        "N = 50    # Nombre de pas de temps\n",
        "\n",
        "prix_call = prix_option_europeenne_binomiale(S0, K, r, T, sigma, N, option_type=\"call\")\n",
        "prix_put = prix_option_europeenne_binomiale(S0, K, r, T, sigma, N, option_type=\"put\")\n",
        "\n",
        "print(f\"Prix de l'option call européenne : {prix_call:.2f}\")\n",
        "print(f\"Prix de l'option put européenne : {prix_put:.2f}\")\n"
      ],
      "metadata": {
        "colab": {
          "base_uri": "https://localhost:8080/"
        },
        "id": "H6onQ6TJEEmF",
        "outputId": "7bf2ea2a-976e-416b-afc6-0d6d048cebc1"
      },
      "execution_count": 23,
      "outputs": [
        {
          "output_type": "stream",
          "name": "stdout",
          "text": [
            "Prix de l'option call européenne : 13.86\n",
            "Prix de l'option put européenne : 3.98\n"
          ]
        }
      ]
    },
    {
      "cell_type": "markdown",
      "source": [
        "à savoir que pour pricer une option américaine il suffit que faire l'étape de calcul de la valeur de l'option mais à chaque noeuds, passons ensuite au modèle de Black-Scholes dont les solutions sont données après résolutions de l'EDS des prix"
      ],
      "metadata": {
        "id": "0NgHyRWbYzZm"
      }
    },
    {
      "cell_type": "code",
      "source": [
        "import numpy as np\n",
        "from scipy.stats import norm\n",
        "\n",
        "def black_scholes(S, K, T, r, sigma, option_type=\"call\"):\n",
        "    \"\"\"\n",
        "    Calcule le prix d'une option européenne selon le modèle de Black-Scholes.\n",
        "    Paramètres :\n",
        "    S : float spot\n",
        "    K : float strike\n",
        "    T : float maturité\n",
        "    r : float Taux d'intérêt sans risque.\n",
        "    sigma : float Volatilité  sous-jacent.\n",
        "    option_type : str type d'option : \"call\" ou \"put\"\n",
        "\n",
        "    Retourne :\n",
        "    float Prix de l'option européenne.\n",
        "    \"\"\"\n",
        "    # Calcul des paramètres d1 et d2 pour black-scholes\n",
        "    d1 = (np.log(S / K) + (r + 0.5 * sigma ** 2) * T) / (sigma * np.sqrt(T))\n",
        "    d2 = d1 - sigma * np.sqrt(T)\n",
        "\n",
        "    if option_type == \"call\":\n",
        "\n",
        "        prix = S * norm.cdf(d1) - K * np.exp(-r * T) * norm.cdf(d2)\n",
        "    elif option_type == \"put\":\n",
        "        # Prix de l'option de vente\n",
        "        prix = K * np.exp(-r * T) * norm.cdf(-d2) - S * norm.cdf(-d1)\n",
        "\n",
        "    return prix\n",
        "\n",
        "# Exemple\n",
        "S0 = 105  # spot\n",
        "K = 100   # strike\n",
        "T = 1.0     # maturité\n",
        "r = 0.05  # Taux d'intérêt sans risque\n",
        "sigma = 0.2  # Volatilité\n",
        "\n",
        "# Calcul du prix de l'option d'achat (call)\n",
        "call_price = black_scholes(S0, K, T, r, sigma, option_type=\"call\")\n",
        "print(f\"Prix de l'option d'achat (call) : {call_price:.2f} €\")\n",
        "\n",
        "# Calcul du prix de l'option de vente (put)\n",
        "put_price = black_scholes(S0, K, T, r, sigma, option_type=\"put\")\n",
        "print(f\"Prix de l'option de vente (put) : {put_price:.2f} €\")\n"
      ],
      "metadata": {
        "colab": {
          "base_uri": "https://localhost:8080/"
        },
        "id": "es4iDWAuLaPN",
        "outputId": "9f895677-c574-495a-ec3a-31ce673d5a51"
      },
      "execution_count": 24,
      "outputs": [
        {
          "output_type": "stream",
          "name": "stdout",
          "text": [
            "Prix de l'option d'achat (call) : 13.86 €\n",
            "Prix de l'option de vente (put) : 3.98 €\n"
          ]
        }
      ]
    },
    {
      "cell_type": "markdown",
      "source": [
        "#2.option asiatique\n",
        "Une option asiatique est un type d'option dont le payoff dépend de la moyenne (arithmétique ou géométrique) des prix du sous-jacent sur une période donnée, plutôt que du prix observé à un moment unique (comme à l'échéance pour une option européenne classique). Cette caractéristique permet de lisser les fluctuations du marché et de réduire l'impact d'éventuels pics de volatilité sur le prix final de l'option.\n",
        "###2.1) option asiatique à moyenne géomtrique\n",
        "\n",
        "Pour une option asiatique à moyenne géométrique en temps continu (échantillonnage continu sur [0, T]), la formule fermée s'écrit généralement de la manière suivante pour une option call:\n",
        "\n",
        "$$\n",
        "C = e^{-rT}\\left[S_0\\, e^{\\mu_G + \\frac{1}{2}\\sigma_G^2}\\, N(d_1) - K\\, N(d_2)\\right]\n",
        "$$\n",
        "\n",
        "avec\n",
        "$\\sigma_G = \\sigma \\sqrt{\\frac{T}{3}}\\$\n",
        "\n",
        "$d_1 = \\frac{\\ln(S_0/K) + \\mu_G + \\frac{1}{2}\\sigma_G^2}{\\sigma_G}$\n",
        "et $d_2 = d_1 - \\sigma_G$.\n",
        "\n",
        "Pour une option put, le prix s'obtient en appliquant le principe de parité put-call adaptée ou en modifiant directement les payoffs.\n",
        "\n",
        "Voici le code correspondant:\n",
        "\n",
        "\n",
        "\n"
      ],
      "metadata": {
        "id": "Fy_HpD_9T9TX"
      }
    },
    {
      "cell_type": "code",
      "source": [
        "import numpy as np\n",
        "from scipy.stats import norm\n",
        "\n",
        "def option_geometrique_asiatique_closed(S0, K, r, sigma, T, option_type=\"call\"):\n",
        "    \"\"\"\n",
        "    Calcule le prix d'une option asiatique à moyenne géométrique par formule fermée.\n",
        "    Paramètres:\n",
        "        S0: float Spot.\n",
        "        K: float  Strike\n",
        "        r: float  Taux sans risque.\n",
        "        sigma: float  Volatilité.\n",
        "        T: float - Maturité .\n",
        "        option_type: str \"call\" ou \"put\".\n",
        "\n",
        "    Retourne:\n",
        "        float - Prix de l'option.\n",
        "    \"\"\"\n",
        "    # Calcul des paramètres ajustés pour la moyenne géométrique\n",
        "    sigma_G = sigma * np.sqrt(T / 3)\n",
        "    mu_G = 0.5 * (r - 0.5 * sigma**2) * T + (sigma**2 * T) / 6\n",
        "\n",
        "    # Calcul des variables d1 et d2\n",
        "    d1 = (np.log(S0 / K) + mu_G + 0.5 * sigma_G**2) / sigma_G\n",
        "    d2 = d1 - sigma_G\n",
        "\n",
        "    if option_type == \"call\":\n",
        "        prix = np.exp(-r * T) * (S0 * np.exp(mu_G + 0.5 * sigma_G**2) * norm.cdf(d1) - K * norm.cdf(d2))\n",
        "    elif option_type == \"put\":\n",
        "        prix = np.exp(-r * T) * (K * norm.cdf(-d2) - S0 * np.exp(mu_G + 0.5 * sigma_G**2) * norm.cdf(-d1))\n",
        "    else:\n",
        "        raise ValueError(\"option_type doit être 'call' ou 'put'\")\n",
        "    return prix"
      ],
      "metadata": {
        "id": "2SGl1d97UbnP"
      },
      "execution_count": 18,
      "outputs": []
    },
    {
      "cell_type": "markdown",
      "source": [
        "### Méthode par Simulation Monte Carlo\n",
        "\n",
        "Dans la méthode Monte Carlo, on simule de nombreux chemins du sous-jacent suivant la dynamique Black-Scholes. Pour chaque chemin, on calcule la moyenne géométrique (en prenant la moyenne des logarithmes pour éviter des problèmes numériques) et on en déduit le payoff La valeur de l'option est ensuite obtenue par l'actualisation de la moyenne de ces payoffs.\n",
        "\n",
        "Voici le code associé :"
      ],
      "metadata": {
        "id": "ufDj7cSKUWNa"
      }
    },
    {
      "cell_type": "code",
      "source": [
        "def option_geometrique_asiatique_monte_carlo(S0, K, r, sigma, T, pas=252, num_trajectoire=1000000, option_type=\"call\"):\n",
        "    \"\"\"\n",
        "    Calcule le prix d'une option asiatique à moyenne géométrique par simulation Monte Carlo.\n",
        "\n",
        "    Paramètres:\n",
        "        S0: float - Prix initial du sous-jacent.\n",
        "        K: float - Prix d'exercice.\n",
        "        r: float - Taux sans risque.\n",
        "        sigma: float - Volatilité.\n",
        "        T: float - Maturité (en années).\n",
        "        pas: int - Nombre de pas dans la simulation temporelle. 252 ici pour prendre le nombre de jour ouvert\n",
        "        num_trajectoire: int - Nombre de chemins simulés.\n",
        "        option_type: str - \"call\" ou \"put\".\n",
        "\n",
        "    Retourne:\n",
        "        float - Prix de l'option.\n",
        "    \"\"\"\n",
        "    dt = T / pas\n",
        "    # Simulation des trajectoires du sous-jacent\n",
        "    S = np.zeros((num_trajectoire, pas))\n",
        "    S[:, 0] = S0\n",
        "    for i in range(1, pas):\n",
        "        z = np.random.standard_normal(num_trajectoire)\n",
        "        S[:, i] = S[:, i-1] * np.exp((r - 0.5 * sigma**2) * dt + sigma * np.sqrt(dt) * z)\n",
        "\n",
        "    # Calcul de la moyenne géométrique pour chaque trajectoire\n",
        "    # On utilise la moyenne des logarithmes pour éviter les problèmes numériques\n",
        "    logS = np.log(S)\n",
        "    geo_moy = np.exp(np.mean(logS, axis=1))\n",
        "\n",
        "    # Calcul des payoffs en fonction du type d'option\n",
        "    if option_type == \"call\":\n",
        "        payoffs = np.maximum(geo_moy - K, 0)\n",
        "    elif option_type == \"put\":\n",
        "        payoffs = np.maximum(K - geo_moy, 0)\n",
        "    else:\n",
        "        raise ValueError(\"option_type doit être 'call' ou 'put'\")\n",
        "\n",
        "    # Actualisation de la moyenne des payoffs\n",
        "    prix = np.exp(-r * T) * np.mean(payoffs)\n",
        "    return prix"
      ],
      "metadata": {
        "id": "zXSi6S8GUO6p"
      },
      "execution_count": 17,
      "outputs": []
    },
    {
      "cell_type": "code",
      "source": [
        "# Paramètres d'exemple\n",
        "S0 = 100.0   # Prix initial\n",
        "K = 100.0    # Prix d'exercice\n",
        "r = 0.05     # Taux sans risque\n",
        "sigma = 0.3  # Volatilité\n",
        "T = 1.0      # Maturité en années\n",
        "\n",
        "# Option Call\n",
        "price_closed_call = option_geometrique_asiatique_closed(S0, K, r, sigma, T, option_type=\"call\")\n",
        "price_mc_call = option_geometrique_asiatique_monte_carlo(S0, K, r, sigma, T, pas=252, num_trajectoire=1000000, option_type=\"call\")\n",
        "\n",
        "print(\"Option asiatique géométrique Call:\")\n",
        "print(\"Prix en formule fermée: {:.4f}\".format(price_closed_call))\n",
        "print(\"Prix par Monte Carlo: {:.4f}\".format(price_mc_call))\n",
        "\n",
        "# Option Put\n",
        "price_closed_put = option_geometrique_asiatique_closed(S0, K, r, sigma, T, option_type=\"put\")\n",
        "price_mc_put = option_geometrique_asiatique_monte_carlo(S0, K, r, sigma, T, pas=252, num_trajectoire=1000000, option_type=\"put\")\n",
        "\n",
        "print(\"\\nOption asiatique géométrique Put:\")\n",
        "print(\"Prix en formule fermée: {:.4f}\".format(price_closed_put))\n",
        "print(\"Prix par Monte Carlo: {:.4f}\".format(price_mc_put))"
      ],
      "metadata": {
        "colab": {
          "base_uri": "https://localhost:8080/"
        },
        "id": "M_fJNWnZUGzd",
        "outputId": "1d4b5c2d-3643-42b9-945a-5e37b404b615"
      },
      "execution_count": 20,
      "outputs": [
        {
          "output_type": "stream",
          "name": "stdout",
          "text": [
            "Option asiatique géométrique Call:\n",
            "Prix en formule fermée: 8.3363\n",
            "Prix par Monte Carlo: 7.4797\n",
            "\n",
            "Option asiatique géométrique Put:\n",
            "Prix en formule fermée: 5.1940\n",
            "Prix par Monte Carlo: 5.8043\n"
          ]
        }
      ]
    },
    {
      "cell_type": "markdown",
      "source": [
        "la différence de prix dans nos modèles peut provenir de plusieurs choses: soit des nombres de chemins et de la discrétisations employés\n",
        "ou bien du modèles d'évolutions de cours choisit"
      ],
      "metadata": {
        "id": "8vS3I3akZVKc"
      }
    },
    {
      "cell_type": "markdown",
      "source": [
        "---\n",
        "\n",
        "### Remarques\n",
        "\n",
        "- **Méthode en formule fermée :**  \n",
        "  Cette méthode est très rapide et fournit une solution exacte dans le cadre de l'hypothèse de moyenne géométrique. Elle repose sur le fait que la moyenne géométrique d'un processus lognormal reste lognormal, ce qui permet de dériver une solution fermée.\n",
        "\n",
        "- **Méthode Monte Carlo :**  \n",
        "  Cette approche, bien que plus lente, est très flexible et peut être adaptée à des options plus complexes ou à des cas où la formule fermée n'est pas disponible (par exemple pour les options à moyenne arithmétique). Pour l'option géométrique, elle permet de vérifier la cohérence avec la solution analytique.\n",
        "\n",
        "Ces deux méthodes vous offrent donc deux perspectives complémentaires pour le pricing d'une option asiatique à moyenne géométrique. pour une moyenne arithmétique on peut procéder comme suivant  avec la méthode de monte-carlo qui est plus simple à implémenter bien que plus longue à compiler"
      ],
      "metadata": {
        "id": "nowcWME3UAqE"
      }
    },
    {
      "cell_type": "code",
      "source": [
        "import numpy as np\n",
        "\n",
        "def asian_option_mc(S0, K, T, r, sigma, pas, num_trajectoire=100000, option_type='call'):\n",
        "    \"\"\"\n",
        "    Prix une option asiatique à moyenne arithmétique par simulation Monte Carlo.\n",
        "\n",
        "    Paramètres:\n",
        "        S0 (float): Prix initial du sous-jacent\n",
        "        K (float): Prix d'exercice\n",
        "        T (float): Temps jusqu'à maturité (en années)\n",
        "        r (float): Taux sans risque\n",
        "        sigma (float): Volatilité\n",
        "        pas (int): Nombre de pas de temps\n",
        "        num_trajectoire (int): Nombre de simulations\n",
        "        option_type (str): 'call' ou 'put'\n",
        "\n",
        "    retourne:\n",
        "        float: Prix de l'option\n",
        "    \"\"\"\n",
        "\n",
        "    dt = T / pas\n",
        "    discount = np.exp(-r * T)\n",
        "    # Simulation des trajectoires du sous-jacent\n",
        "    S = np.zeros((num_trajectoire, pas))\n",
        "    S[:, 0] = S0\n",
        "    for i in range(1, pas):\n",
        "        z = np.random.standard_normal(num_trajectoire)\n",
        "        S[:, i] = S[:, i-1] * np.exp((r - 0.5 * sigma**2) * dt + sigma * np.sqrt(dt) * z)\n",
        "\n",
        "\n",
        "    # Calcul de la moyenne arithmétique\n",
        "    avg_price = np.mean(S[:, 1:], axis=1)\n",
        "\n",
        "    # Calcul du payoff\n",
        "    if option_type == \"call\":\n",
        "        payoff = np.maximum(avg_price - K, 0)\n",
        "    elif option_type==\"put\":\n",
        "        payoff = np.maximum(K - avg_price, 0)\n",
        "    else:\n",
        "        raise ValueError(\"option_type doit être 'call' ou 'put'\")\n",
        "\n",
        "    # Prix de l'option\n",
        "    option_price = discount * np.mean(payoff)\n",
        "\n",
        "    return option_price\n",
        "\n",
        "# Exemple d'utilisation\n",
        "S0 = 100     # Prix spot\n",
        "K = 100      # Strike\n",
        "T = 1        # Maturité (années)\n",
        "r = 0.05     # Taux sans risque\n",
        "sigma = 0.2  # Volatilité\n",
        "n_steps = 252  # Pas de temps (ex: jours ouvrés)\n",
        "n_sims = 100000 # Nombre de simulations\n",
        "\n",
        "price_call = asian_option_mc(S0, K, T, r, sigma, n_steps, n_sims, 'call')\n",
        "print(f\"Prix de l'option asiatique (Call): {price_call:.2f}\")\n",
        "price_put = asian_option_mc(S0, K, T, r, sigma, n_steps, n_sims, 'put')\n",
        "print(f\"Prix de l'option asiatique (put): {price_put:.2f}\")\n",
        "\n"
      ],
      "metadata": {
        "colab": {
          "base_uri": "https://localhost:8080/"
        },
        "id": "0avVsEqDGFcE",
        "outputId": "a1737a5f-7c7d-49de-cdb1-6e0249d255ed"
      },
      "execution_count": 21,
      "outputs": [
        {
          "output_type": "stream",
          "name": "stdout",
          "text": [
            "Prix de l'option asiatique (Call): 5.72\n",
            "Prix de l'option asiatique (put): 3.35\n"
          ]
        }
      ]
    },
    {
      "cell_type": "markdown",
      "source": [
        "comme il n'y a pas de solutions dans le cadre de la moyenne arithmétique on peut faire comme au début pour un call/put européens et utiliser un arbre binomiale un peu plus complexe puisqu'il faut désormais stocker les moyennes et la valeur de l'option"
      ],
      "metadata": {
        "id": "cna6XVxGdlLC"
      }
    },
    {
      "cell_type": "code",
      "source": [
        "import numpy as np\n",
        "\n",
        "def binomial_asian(S0, K, T, r, sigma, n, m=50, option_type='call'):\n",
        "    dt = T / n\n",
        "    u = np.exp(sigma * np.sqrt(dt))\n",
        "    d = 1 / u\n",
        "    q = (np.exp(r * dt) - d) / (u - d)\n",
        "\n",
        "    # Construction de l'arbre du prix du sous-jacent :\n",
        "    # stock[i, j] correspond au prix du sous-jacent après i pas, avec j mouvements \"up\".\n",
        "    stock = np.zeros((n+1, n+1))\n",
        "    for i in range(n+1):\n",
        "        for j in range(i+1):\n",
        "            stock[i,j] = S0 * (u**j) * (d**(i-j))\n",
        "\n",
        "    # Initialisation des dictionnaires pour stocker la grille de moyennes et la valeur de l'option\n",
        "    avg_grid = {}  # Contiendra pour chaque noeud (i,j) une grille discrétisée des valeurs de la moyenne arithmétique\n",
        "    option = {}    # Contiendra pour chaque noeud (i,j) la valeur de l'option associée à chaque valeur discrétisée de la moyenne\n",
        "\n",
        "    # Étape initiale (t = 0) : au départ la moyenne est simplement le prix initial S0\n",
        "    avg_grid[(0,0)] = np.array([S0])\n",
        "    option[(0,0)] = np.zeros(1)\n",
        "\n",
        "    # Discrétisation du noeud initial : ici la grille est trivialement un unique point\n",
        "    avg_min = avg_grid[(0,0)][0]\n",
        "    avg_max = avg_grid[(0,0)][0]\n",
        "    avg_grid[(0,0)] = np.linspace(avg_min, avg_max, m)\n",
        "    option[(0,0)] = np.zeros(m)\n",
        "\n",
        "    # Construction des grilles de moyennes (forward) pour chaque noeud de l'arbre binomial\n",
        "    for i in range(n):\n",
        "        for j in range(i+1):\n",
        "            if (i,j) not in avg_grid:\n",
        "                continue\n",
        "            current_avg = avg_grid[(i,j)]\n",
        "            current_S = stock[i,j]\n",
        "\n",
        "            # Pour chaque valeur de moyenne dans la grille du noeud courant, on calcule les nouvelles moyennes\n",
        "            # obtenues après un mouvement \"up\" et après un mouvement \"down\"\n",
        "            for k in range(len(current_avg)):\n",
        "                avg = current_avg[k]\n",
        "\n",
        "                # Mouvement up\n",
        "                next_i, next_j = i+1, j+1\n",
        "                next_S = current_S * u\n",
        "                next_avg = (avg * (i+1) + next_S) / (i + 2)\n",
        "                if (next_i, next_j) not in avg_grid:\n",
        "                    avg_grid[(next_i, next_j)] = []\n",
        "                avg_grid[(next_i, next_j)].append(next_avg)\n",
        "\n",
        "                # Mouvement down\n",
        "                next_i, next_j = i+1, j\n",
        "                next_S = current_S * d\n",
        "                next_avg = (avg * (i+1) + next_S) / (i + 2)\n",
        "                if (next_i, next_j) not in avg_grid:\n",
        "                    avg_grid[(next_i, next_j)] = []\n",
        "                avg_grid[(next_i, next_j)].append(next_avg)\n",
        "\n",
        "        # À chaque étape, pour chaque noeud atteint, on discrétise la grille des moyennes obtenues\n",
        "        # afin de limiter le nombre de valeurs et de rendre le problème numérique plus gérable.\n",
        "        for j in range(i+2):\n",
        "            key = (i+1, j)\n",
        "            if key not in avg_grid or len(avg_grid[key]) == 0:\n",
        "                continue\n",
        "            avg_min = min(avg_grid[key])\n",
        "            avg_max = max(avg_grid[key])\n",
        "            avg_grid[key] = np.linspace(avg_min, avg_max, m)\n",
        "            option[key] = np.zeros(m)\n",
        "\n",
        "    # Calcul des payoffs à la maturité (t = T)\n",
        "    # Pour chaque noeud terminal (niveau n), le payoff est calculé en fonction de la moyenne finale :\n",
        "    # pour un call, max(moyenne - K, 0) et pour un put, max(K - moyenne, 0)\n",
        "    for j in range(n+1):\n",
        "        key = (n, j)\n",
        "        if key not in option:\n",
        "            continue\n",
        "        for k in range(m):\n",
        "            avg = avg_grid[key][k]\n",
        "            if option_type == 'call':\n",
        "                option[key][k] = max(avg - K, 0)\n",
        "            else:\n",
        "                option[key][k] = max(K - avg, 0)\n",
        "\n",
        "    # Rétro-propagation (backward induction) pour calculer la valeur de l'option\n",
        "    # On part de la maturité et on recule dans l'arbre en actualisant les valeurs\n",
        "    for i in range(n-1, -1, -1):\n",
        "        for j in range(i+1):\n",
        "            key = (i, j)\n",
        "            if key not in option:\n",
        "                continue\n",
        "            current_S = stock[i,j]\n",
        "            for k in range(m):\n",
        "                avg = avg_grid[key][k]\n",
        "\n",
        "                # Calcul de la moyenne pour le mouvement up\n",
        "                next_avg_up = (avg * (i+1) + current_S * u) / (i + 2)\n",
        "                key_up = (i+1, j+1)\n",
        "                if key_up in option:\n",
        "                    # On utilise l'interpolation linéaire pour obtenir la valeur correspondant à next_avg_up\n",
        "                    value_up = np.interp(next_avg_up, avg_grid[key_up], option[key_up])\n",
        "                else:\n",
        "                    value_up = 0\n",
        "\n",
        "                # Calcul de la moyenne pour le mouvement down\n",
        "                next_avg_down = (avg * (i+1) + current_S * d) / (i + 2)\n",
        "                key_down = (i+1, j)\n",
        "                if key_down in option:\n",
        "                    value_down = np.interp(next_avg_down, avg_grid[key_down], option[key_down])\n",
        "                else:\n",
        "                    value_down = 0\n",
        "\n",
        "                # Actualisation de la valeur de l'option\n",
        "                option[key][k] = np.exp(-r * dt) * (q * value_up + (1 - q) * value_down)\n",
        "\n",
        "    return option[(0,0)][0]\n",
        "\n",
        "# Exemple d'utilisation\n",
        "S0 = 100   # Prix spot\n",
        "K = 100    # Strike\n",
        "T = 1      # Maturité (en années)\n",
        "r = 0.05   # Taux sans risque\n",
        "sigma = 0.2# Volatilité\n",
        "n = 50     # Nombre de pas dans l'arbre binomial\n",
        "m = 50     # Nombre de points dans la discrétisation de la moyenne\n",
        "\n",
        "\n",
        "prix_call = binomial_asian(S0, K, T, r, sigma, n, m, 'call')\n",
        "print(f\"Prix de l'option asiatique (Call) : {prix_call:.2f}\")\n",
        "prix_put = binomial_asian(S0, K, T, r, sigma, n, m, 'put')\n",
        "print(f\"Prix de l'option asiatique (put) : {prix_put:.2f}\")"
      ],
      "metadata": {
        "colab": {
          "base_uri": "https://localhost:8080/"
        },
        "id": "r843VmJtXwEH",
        "outputId": "e3fbfd24-cc83-4d6e-f31c-a1e851aa358c"
      },
      "execution_count": 22,
      "outputs": [
        {
          "output_type": "stream",
          "name": "stdout",
          "text": [
            "Prix de l'option asiatique (Call) : 5.80\n",
            "Prix de l'option asiatique (put) : 3.39\n"
          ]
        }
      ]
    }
  ]
}